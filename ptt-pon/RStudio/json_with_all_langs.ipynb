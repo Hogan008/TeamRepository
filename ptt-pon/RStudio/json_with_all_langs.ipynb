{
 "cells": [
  {
   "cell_type": "code",
   "execution_count": 28,
   "metadata": {
    "scrolled": true
   },
   "outputs": [
    {
     "data": {
      "text/plain": [
       "Counter({'BASH': 0,\n",
       "         'C': 0,\n",
       "         'C#': 0,\n",
       "         'C++': 0,\n",
       "         'CSS': 0,\n",
       "         'DELPHI': 0,\n",
       "         'DNS': 0,\n",
       "         'FTP': 0,\n",
       "         'GO': 0,\n",
       "         'HTML': 0,\n",
       "         'JAVA': 0,\n",
       "         'JAVASCRIPT': 0,\n",
       "         'MYSQL': 0,\n",
       "         'PERL': 0,\n",
       "         'PHP': 0,\n",
       "         'PYTHON': 0,\n",
       "         'R': 0,\n",
       "         'RUBY': 0,\n",
       "         'SCALA': 0,\n",
       "         'SQL': 0,\n",
       "         'SWIFT': 0,\n",
       "         'TYPESCRIPT': 0})"
      ]
     },
     "execution_count": 28,
     "metadata": {},
     "output_type": "execute_result"
    }
   ],
   "source": [
    "import requests\n",
    "from bs4 import BeautifulSoup\n",
    "from collections import Counter\n",
    "import re\n",
    "wc = Counter()\n",
    "wc[\"C\"] = 0                             \n",
    "wc[\"C++\"] = 0\n",
    "wc[\"C#\"] = 0\n",
    "wc[\"PYTHON\"] = 0\n",
    "wc[\"JAVA\"] = 0\n",
    "wc[\"JAVASCRIPT\"] = 0\n",
    "wc[\"PHP\"] = 0\n",
    "wc[\"HTML\"] = 0\n",
    "wc[\"SQL\"] = 0\n",
    "wc[\"CSS\"] = 0\n",
    "wc[\"CSS\"] = 0\n",
    "wc[\"R\"] = 0\n",
    "wc[\"BASH\"] = 0\n",
    "wc[\"RUBY\"] = 0\n",
    "wc[\"PERL\"] = 0\n",
    "wc[\"SCALA\"] = 0\n",
    "wc[\"SWIFT\"] = 0\n",
    "wc[\"GO\"] = 0\n",
    "wc[\"DELPHI\"] = 0\n",
    "wc[\"TYPESCRIPT\"] = 0\n",
    "wc[\"MYSQL\"] = 0\n",
    "wc[\"FTP\"] = 0\n",
    "wc[\"DNS\"] = 0\n",
    "wc"
   ]
  },
  {
   "cell_type": "code",
   "execution_count": 29,
   "metadata": {},
   "outputs": [
    {
     "data": {
      "text/plain": [
       "'/home/skydream37/Rtemp/data'"
      ]
     },
     "execution_count": 29,
     "metadata": {},
     "output_type": "execute_result"
    }
   ],
   "source": [
    "pwd()\n"
   ]
  },
  {
   "cell_type": "code",
   "execution_count": 30,
   "metadata": {
    "scrolled": true
   },
   "outputs": [],
   "source": [
    "import os\n",
    "os.chdir('../data')\n",
    "files = os.listdir()\n",
    "\n",
    "# with open('data.json','r')as "
   ]
  },
  {
   "cell_type": "code",
   "execution_count": 31,
   "metadata": {},
   "outputs": [
    {
     "data": {
      "text/plain": [
       "['518_wei.json',\n",
       " '104R.json',\n",
       " 'ptt_threading.json',\n",
       " 'test_json.json',\n",
       " 'yes123_json.json',\n",
       " '518main.json',\n",
       " '1111_crawler.json']"
      ]
     },
     "execution_count": 31,
     "metadata": {},
     "output_type": "execute_result"
    }
   ],
   "source": [
    "files #如果讀出來有.DS_Store再用terminal把他remove掉"
   ]
  },
  {
   "cell_type": "code",
   "execution_count": 32,
   "metadata": {
    "collapsed": true
   },
   "outputs": [],
   "source": [
    "import json\n",
    "wc = Counter()\n",
    "for file in files:\n",
    "    with open(file, 'r') as f:\n",
    "        data = f.read()\n",
    "        json_data = json.loads(data)\n",
    "        for lang in json_data:\n",
    "            wc[lang]  += json_data[lang]\n",
    "#         print(json_data)\n",
    "# wc.most_common()"
   ]
  },
  {
   "cell_type": "code",
   "execution_count": 33,
   "metadata": {},
   "outputs": [
    {
     "name": "stdout",
     "output_type": "stream",
     "text": [
      "{\"C\": 3018, \"C++\": 2225, \"C#\": 1952, \"PYTHON\": 894, \"JAVA\": 3638, \"JAVASCRIPT\": 3004, \"PHP\": 2145, \"HTML\": 3415, \"SQL\": 2083, \"CSS\": 1759, \"R\": 156, \"BASH\": 25, \"RUBY\": 228, \"PERL\": 455, \"SCALA\": 121, \"SWIFT\": 135, \"GO\": 69, \"DELPHI\": 68, \"TYPESCRIPT\": 91, \"MYSQL\": 804, \"FTP\": 25}\n"
     ]
    }
   ],
   "source": [
    "data={\n",
    "    'C': wc['C'],\n",
    "    'C++':wc['C++'],\n",
    "    'C#': wc['C#'],\n",
    "    'PYTHON': wc['PYTHON'],\n",
    "    'JAVA': wc['JAVA'],\n",
    "    'JAVASCRIPT': wc['JAVASCRIPT'],\n",
    "    'PHP': wc['PHP'],\n",
    "    'HTML': wc['HTML'],\n",
    "    'SQL': wc['SQL'],\n",
    "    'CSS': wc['CSS'],\n",
    "    'R': wc['R'],\n",
    "    'BASH': wc['BASH'],\n",
    "    'RUBY': wc['RUBY'],\n",
    "    'PERL': wc['PERL'],\n",
    "    'SCALA': wc['SCALA'],\n",
    "    'SWIFT': wc['SWIFT'],\n",
    "    'GO': wc['GO'],\n",
    "    'DELPHI': wc['DELPHI'],\n",
    "    'TYPESCRIPT': wc['TYPESCRIPT'],\n",
    "    'MYSQL': wc['MYSQL'],\n",
    "    'FTP': wc['FTP'],\n",
    "    'MYSQL': wc['MYSQL'],\n",
    "    'DELPHI': wc['DELPHI']\n",
    "}\n",
    "print(json.dumps(data))\n",
    "with open('../all_langs.json','w') as f:\n",
    "    json.dump(data,f)"
   ]
  }
 ],
 "metadata": {
  "kernelspec": {
   "display_name": "Python 3",
   "language": "python",
   "name": "python3"
  },
  "language_info": {
   "codemirror_mode": {
    "name": "ipython",
    "version": 3
   },
   "file_extension": ".py",
   "mimetype": "text/x-python",
   "name": "python",
   "nbconvert_exporter": "python",
   "pygments_lexer": "ipython3",
   "version": "3.6.1"
  }
 },
 "nbformat": 4,
 "nbformat_minor": 2
}
